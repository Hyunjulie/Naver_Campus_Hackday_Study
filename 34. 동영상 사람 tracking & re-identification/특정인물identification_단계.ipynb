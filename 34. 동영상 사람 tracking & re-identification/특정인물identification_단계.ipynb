{
 "cells": [
  {
   "cell_type": "markdown",
   "metadata": {},
   "source": [
    "# 특정 인물 Identification & Tracking \n",
    "\n",
    "\n",
    "- Input: 여러 인물이 등장하는 동영상 & Target Person \n",
    "\n",
    "- Desired Output: 특정 인물이 영상에 있는지 확인하고 -> 추적 \n"
   ]
  },
  {
   "cell_type": "markdown",
   "metadata": {},
   "source": [
    "## Step 1: 특정 인물 Identification \n",
    "\n",
    "https://arxiv.org/pdf/1611.05244.pdf\n",
    "\n",
    "\n",
    "연예인 얼굴 identification problem : https://www.youtube.com/watch?v=lofQMB0LWJ0 \n",
    "- Face Recognition 으로 접근 할 수 있나? \n",
    "\n",
    "\n",
    "* Face Recognition 의 단계 \n",
    "1. 주어진 사진에 있는 얼굴을 다 찾아낸다 \n",
    "2. 각 얼굴에 집중 -> 이상한 각도 / 불빛이여도 같은 사람인것을 인지해야한다 \n",
    "3. 얼굴에서 특징을 뽑아낸다 -> 눈의 크기, 얼굴의 길이 등 \n",
    "4. 타겟의 특징과 같은 특징을 갖고있는지 판단 (같은 사람인지 판단) \n",
    "\n",
    "https://medium.com/@ageitgey/machine-learning-is-fun-part-4-modern-face-recognition-with-deep-learning-c3cffc121d78\n",
    "\n"
   ]
  },
  {
   "cell_type": "markdown",
   "metadata": {},
   "source": [
    "## Step 1: 모든 얼굴 찾기 \n",
    "\n",
    "- History of Oriented Gradients (HOG) \n",
    "\n",
    "이미지를 흑백으로 바꾼다 -> 단일 픽셀에 대해 이를 둘러싸고 있는 픽셀들을 본다 \n",
    "    - 목표: 해당 픽셀이 이를 직접 둘러싸고 있는 픽셀들과 비교해서 얼마나 어두운지 알아내는 것 \n",
    "    - 이미지가 어두워지는 방향을 나타내는 화살표를 그린다 \n",
    "\n",
    "모든픽셀에 대해서 반복 -> 화살표를 Gradient 라고 부르고 전체 이미지에서 밝은 부분으로부터 어두운 부분으로의 흐름을 알 수 있음 \n",
    "    - 장점? 원본 이미지를 얼굴의 기본 구조가 심플한 방법으로 표시되는 representation 으로 변환할 수 있음 \n",
    "    "
   ]
  },
  {
   "cell_type": "markdown",
   "metadata": {},
   "source": [
    "## Step 2: 얼굴 위치교정 & Projection \n",
    "\n",
    "이미지에서 얼굴을 분리한 후에 다른 방향을 보고있는 얼굴을 돌려야 한다 \n",
    "\n",
    "- Face Landmark Estimation 알고리즘 사용 \n",
    "    - 모든 얼굴에 존재하는 68개의 landmark 라고 불리는 특정 포인트를 찾아내는 것 \n",
    "    - 어디있는지 찾아냈으면 affine transformation 을 이용해서 centered 되게 만들기 \n"
   ]
  },
  {
   "cell_type": "markdown",
   "metadata": {},
   "source": [
    "## Step 3: 얼굴 인코딩 \n",
    "\n",
    "컴퓨터가 수집할 측정값을 스스로 파악하도록 하는 접근법 \n",
    "- Deep Convolutional Neural Network 훈련시키기 \n",
    "    - 각 얼굴에 대해 128개의 측정값을 생성하도록 훈련시키기 \n",
    "    - 3개의 사진을 쓴다: 훈련용 target 사진 2장 & 다른 사람 사진 1장: 같은 사람에 대한 이미지의 측정값을 거로 가깝게 하고 다른 사람의 측정값과는 멀어지도록 조정한다 \n",
    "    - Embedding! \n",
    "\n",
    "OpenFace's Pretrained CNN \n",
    "https://github.com/cmusatyalab/openface/tree/master/models/openface\n",
    "\n",
    "FaceNet"
   ]
  },
  {
   "cell_type": "markdown",
   "metadata": {},
   "source": [
    "## Step 4: 인코딩에서 사람 이름 찾기 \n",
    "\n",
    "- 데이터베이스에서 측정값과 가장 가까운 사람을 찾아내기 \n",
    "\n",
    "- SVM Classifier "
   ]
  },
  {
   "cell_type": "markdown",
   "metadata": {},
   "source": [
    "or Using FaceNet \n"
   ]
  },
  {
   "cell_type": "code",
   "execution_count": null,
   "metadata": {},
   "outputs": [],
   "source": []
  }
 ],
 "metadata": {
  "kernelspec": {
   "display_name": "Python 3",
   "language": "python",
   "name": "python3"
  },
  "language_info": {
   "codemirror_mode": {
    "name": "ipython",
    "version": 3
   },
   "file_extension": ".py",
   "mimetype": "text/x-python",
   "name": "python",
   "nbconvert_exporter": "python",
   "pygments_lexer": "ipython3",
   "version": "3.6.4"
  }
 },
 "nbformat": 4,
 "nbformat_minor": 2
}
