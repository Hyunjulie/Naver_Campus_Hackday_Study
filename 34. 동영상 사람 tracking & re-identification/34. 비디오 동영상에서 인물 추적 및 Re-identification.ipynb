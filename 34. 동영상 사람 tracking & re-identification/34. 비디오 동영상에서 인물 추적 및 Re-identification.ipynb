{
 "cells": [
  {
   "cell_type": "markdown",
   "metadata": {},
   "source": [
    "# 34. 비디오 동영상에서 인물 추적 및 Re-identification\n",
    "\n",
    "\n",
    "Deep Learning > Computer Vision 중 유일한 주제\n",
    "\n",
    "\n",
    "- 주제 설명:\n",
    "\n",
    "    - 동영상에서 특정인물들을 확인하고 추적하는 기술 \n",
    "    - 어디에 쓰이나? 비디오 요약, 검색, 보안\n",
    "    - 네이버에선? 중요인물 포커싱 & 비디오 요약기술에 활용\n",
    "    \n",
    "- 개발 관련: \n",
    "    - CNN/RNN 구현 \n",
    "    - Pytorch or Tensorflow \n",
    "    - Web demo or NSML demo\n",
    "    - 기존 논문 구현으로부터 출발 가능 \n"
   ]
  },
  {
   "cell_type": "markdown",
   "metadata": {},
   "source": [
    "\n",
    "#### 인물 추적 이란? \n",
    "(Person Tracking) 비디오에서 타겟을 찾아서 프레임별로 어디있는지 tracking 하는거!\n",
    "\n",
    "\n",
    "#### Re-Identification\n",
    "- 비디오에서 특정한 사람이 이미 관찰되었는지 여부를 확인하는 것\n",
    "- 어떤 것들을 할 수 있나? \n",
    "    - On-Line: detection, tracking, 위험한/의심스러운 행동 찾아내기 \n",
    "    - Off-Line: 다양한 프레임/각도에서 특정한 사람을 찾아내는 것 (범인 찾을 때 이 카메라 저 카메라로 그 사람 찾아내는것) "
   ]
  },
  {
   "cell_type": "markdown",
   "metadata": {},
   "source": [
    "---\n",
    "\n",
    "## 할 것? \n",
    "\n",
    "Person Re-Identification:\n",
    "논문: Survey on Deep Learning Techniques for Person Re-Identification Task [https://arxiv.org/pdf/1807.05284.pdf] 을 참고해서 SoTA 정리해보기\n",
    "\n",
    "Person Tracking: \n",
    "\n",
    "- Mask R-CNN + SORT -> tensorflow 로 구현해 보기 \n",
    "    - Mask R-CNN: fine tuning on pretrained models (COCO?): classification 부분을 human or not human 으로 바꾸면. 정확도 업\n",
    "    - SORT 는 그냥 단순한 알고리즘임 \n",
    "    \n",
    "---"
   ]
  },
  {
   "cell_type": "markdown",
   "metadata": {},
   "source": [
    "## Extra information\n",
    "\n",
    "\n",
    "### Person Tracking \n",
    "참고: https://medium.com/neuromation-io-blog/tracking-cows-with-mask-r-cnn-and-sort-fcd4ad68ec4f \n",
    "\n",
    "Youtube: https://www.youtube.com/watch?v=lLM8oAsi32g \n",
    "\n",
    "\n",
    "\n",
    "- Real Time Object Detection: YOLO (Darknet)? Mask R-CNN\n",
    "\n",
    "- SORT (Simple, Online and Realtime Tracker): 트래커의 역할밖에 못함 \n",
    "https://github.com/abewley/sort/blob/master/sort.py\n",
    "    - IOU (Intersection over union) 을 maximize 시키는 하나의 공식일 뿐 ' learn' 할 필요는 없어서 빠름. \n",
    "    - 각 박스에 숫자를 부여한 후, 다음 프레임에 그 박스가 없으면 그 물체가 프레임을 떠났다고 가정함 \n",
    "\n",
    "- 더 빠른, Deep SORT\n",
    "    - 목적? reduce the number of switchings between identities (좀 더 안정적으로 만들기 위해서) \n",
    "    \n",
    "    \n",
    "\n",
    "1단계로: Object Detection - Mask R-CNN (fine-tuning 해서 관심있는 물체만 다시 학습시키기) \n",
    "\n",
    "2단계로: detect 한 물체들을 sort 알고리즘에 넣어서 프레임별로 매칭시키는 것 \n",
    "\n",
    "\n",
    "    -  예시: Darknet (YOLO) + Deep Sort https://github.com/bendidi/Tracking-with-darkflow => 성능 별로 \n",
    "    - YOLO 의 특성 때문에\n",
    "    \n",
    "    \n",
    "Tracking 의 성능자체는 Object Detection 을 얼마나 잘 했느냐에 따라 달린다. SORT논문으로 보여주려는 것 자체가 object detection 기술이 많이 발전해서 tracking자체는 어마어마한 기술이 필요하지 않다는걸 알려주려고 했다(ㅋㅋ) \n",
    "\n",
    "\n",
    "\n",
    "\n",
    "- Human Detection and Tracking Github = 근데 사람 얼굴을 detect하고 누군지 맞추는거라서 한 걸음 더 나간 프로젝트임! (좋은 예시:)) \n",
    "https://github.com/ITCoders/Human-detection-and-Tracking\n",
    "\n",
    "\n",
    "\n",
    "\n",
    "다른 방법? \n",
    "GOTURN\n",
    "\n",
    "\n",
    "---\n",
    "\n",
    "\n",
    "---\n",
    "\n",
    "Person Reidentification: \n",
    "\n",
    "- 데이터셋: 보통 VIPeR, CUHK01, CUHK03 - 데이터셋마다 자세하게 설명해 놔서 나중에 필요할 때 읽어보기~ \n",
    "\n",
    "- 1. Classification 을 기반으로 하는 모델 \n",
    "\n",
    "\n"
   ]
  },
  {
   "cell_type": "code",
   "execution_count": null,
   "metadata": {},
   "outputs": [],
   "source": []
  }
 ],
 "metadata": {
  "kernelspec": {
   "display_name": "Python 3",
   "language": "python",
   "name": "python3"
  },
  "language_info": {
   "codemirror_mode": {
    "name": "ipython",
    "version": 3
   },
   "file_extension": ".py",
   "mimetype": "text/x-python",
   "name": "python",
   "nbconvert_exporter": "python",
   "pygments_lexer": "ipython3",
   "version": "3.6.4"
  }
 },
 "nbformat": 4,
 "nbformat_minor": 2
}
