{
 "cells": [
  {
   "cell_type": "markdown",
   "metadata": {},
   "source": [
    "## 추천 알고리즘 \n",
    "\n",
    "카테고리를 자동으로 나누는 시스템도 어떻게 보면 카테고리 '추천' 시스템이다. 추천 알고리즘을 정리하면서 어떻게 이 문제에 적용할 수 있을지 생각해본다. \n",
    "\n",
    "- 추천 알고리즘이 사용되는 분야: \n",
    "\n",
    "생각할 수 있는 분야에는 거의 대부분 적용이 가능하다. 리테일, 비디오 추천, 음악 추천 등이 있음. \n",
    "\n",
    "- 추천 알고리즘 \n",
    "    - Content Based Method: 유저의 특성을 고려해서 추천한다 \n",
    "    - Collaborative Filtering Methods: 유저와 비슷한 유저들이 좋아한 것들을 추천해준다. 비교적 다양한 콘텐츠를 추천할 수 있음 \n",
    "\n",
    "<img src=\"coll.png\" width=\"400\" height=\"200\" />\n",
    "    출처: https://medium.com/recombee-blog/machine-learning-for-recommender-systems-part-1-algorithms-evaluation-and-cold-start-6f696683d0ed\n",
    "   \n",
    "\n",
    "---\n",
    "\n",
    "### 접근 방법 1: KNN 사용하기 \n",
    "k 개의 가장 가까운 neighbor 를 찾아서 추천 - clustering 방법 \n",
    "\n",
    "### 접근 방법 2:  Matrix 사용하기 \n",
    "\n",
    "매트릭스의 크기가 너무 커지고 0으로만 차있는 cell 들이 많으니까 차원을 줄이는 알고리즘이 필요하다 -> Matrix Factorization \n",
    "    - Matrix Factorization + SGD (Stochastic Gradient Descent), ALS (Alternating Least Squares Method) \n",
    "    \n",
    "    \n",
    "### 접근 방법 3:  Association Rule 사용하기 \n",
    "\n",
    "자주 사용되는 아이템들끼리 그래프의 edge로 연결된다. \n",
    "\n",
    "### 접근 방법 4: Neural Network, 신경망 사용하기 \n",
    "매트릭스의 차원을 줄여서 compress 하기 위해서 Neural Network 사용하기 \n",
    "\n",
    "- 'Autoencoder': matrix factorization 과 비슷한 방법이다. 효과적이지만 트레이닝 시키기 비교적 어려움 \n",
    "\n"
   ]
  },
  {
   "cell_type": "markdown",
   "metadata": {},
   "source": [
    "--- \n",
    "\n",
    "## 딥러닝을 사용한 추천 알고리즘 \n",
    "\n",
    "- Feed Forward Net 을 통해서 Rating 예측하기 \n",
    "\n",
    "    - 구글에서 나온 논문: Wide & Deep Learning for Recommender System \n",
    "    \n",
    "    https://arxiv.org/pdf/1606.07792.pdf\n",
    "\n",
    "- Recurrent Neural Net과 Reinforcement Learning 을 사용해서 유저의 다음 행동 예측하기 \n",
    "\n",
    "- Autoencoder를 통해서 유저/아이템의 특징을 낮은 차원에 Embed 하기 \n",
    "\n",
    "\n",
    "\n",
    "\n",
    "--- \n",
    "\n",
    "이미지 임베딩: Deep Convolutional Network 사용 \n",
    "- High Level & Low Level 의 공통점을 찾을 수 있음 (Google의 인셉션 모델, Xception model) \n",
    "\n",
    "\n",
    "\n",
    "--- \n",
    "\n",
    "#### 다양한 모델을 앙상블 하기 "
   ]
  },
  {
   "cell_type": "code",
   "execution_count": null,
   "metadata": {},
   "outputs": [],
   "source": []
  }
 ],
 "metadata": {
  "kernelspec": {
   "display_name": "Python 3",
   "language": "python",
   "name": "python3"
  },
  "language_info": {
   "codemirror_mode": {
    "name": "ipython",
    "version": 3
   },
   "file_extension": ".py",
   "mimetype": "text/x-python",
   "name": "python",
   "nbconvert_exporter": "python",
   "pygments_lexer": "ipython3",
   "version": "3.6.4"
  }
 },
 "nbformat": 4,
 "nbformat_minor": 2
}
