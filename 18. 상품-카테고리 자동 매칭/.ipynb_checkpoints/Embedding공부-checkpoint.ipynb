{
 "cells": [
  {
   "cell_type": "markdown",
   "metadata": {},
   "source": [
    "## Embedding \n",
    "\n",
    "카테고리 분류에서 끝내지 않고, 제품 추천까지 할 수 있는 방법 \n",
    "\n",
    "https://www.slideshare.net/AmazonWebServices/deep-learning-at-aws-embedding-attention-models\n",
    "\n",
    "\n",
    "Image ( -> Raw Pixel Encoding -> ) Image ConvNet ==> Feature 를 벡터로 나타낸 결과값을 갖게 된다 \n",
    "\n",
    "- Joint Image / Other data embedding: CNN에서 얻은 데이터와 제품의 다른 특징들을 합쳐서 하나의 embedding 으로 만들어낸다 \n",
    "\n"
   ]
  },
  {
   "cell_type": "markdown",
   "metadata": {},
   "source": [
    "## 예시: 아마존\n",
    "\n",
    "사진 없이 feature 들만 있을 경우:\n",
    "    - Neural Network 에 feature들을 input 으로 해서 제품별로 특징을 뽑아낸다 \n",
    "    - 각 제품별로 vector output 이 있을 텐데, 그걸 entity embedding 을 시킨다 -> 제품 사이의 거리를 구해서 추천해 주는것 \n",
    "<image amazon.png> \n",
    "\n",
    "\n",
    "제품의 사진이 있을 때:\n",
    "    - 이미지를 CNN을 통해서 feature 를 뽑아내고, 일단 이미지 임베딩을 시킨다 \n",
    "    - 제품의 feature들을 합쳐서 다시 Neural Network를 활용 \n",
    "    - 거기서 나온 결과물로 product embedding 을 시킨다 \n",
    "    - 제품 사이의 거리 (L2 distance) 를 이용해서 추천해준다 \n",
    "    - 제품의 카테고리를 정해주는 것은 embeded 된 공간에서 kNN을 사용하면 간단하지 않을까 \n",
    "    - 시각화를 하고 싶다면, projection: PCA 또는 t-SNE 를 통해서 시각화시킨다 \n",
    "<image amazonimage.png> \n",
    "\n",
    "\n",
    "\n",
    "https://colab.research.google.com/notebooks/mlcc/intro_to_sparse_data_and_embeddings.ipynb?utm_source=mlcc&utm_campaign=colab-external&utm_medium=referral&utm_content=embeddings-colab&hl=ko#scrollTo=pUb3L7pqLS86\n",
    "\n"
   ]
  },
  {
   "cell_type": "markdown",
   "metadata": {},
   "source": [
    "## GloVe: 유명한 word embedding \n",
    "https://nlp.stanford.edu/projects/glove/"
   ]
  }
 ],
 "metadata": {
  "kernelspec": {
   "display_name": "Python 3",
   "language": "python",
   "name": "python3"
  },
  "language_info": {
   "codemirror_mode": {
    "name": "ipython",
    "version": 3
   },
   "file_extension": ".py",
   "mimetype": "text/x-python",
   "name": "python",
   "nbconvert_exporter": "python",
   "pygments_lexer": "ipython3",
   "version": "3.6.4"
  }
 },
 "nbformat": 4,
 "nbformat_minor": 2
}
